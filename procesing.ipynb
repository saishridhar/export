{
 "cells": [
  {
   "cell_type": "code",
   "execution_count": 1,
   "metadata": {},
   "outputs": [],
   "source": [
    "import pandas as pd\n",
    "import numpy as np\n",
    "import os \n",
    "\n",
    "os.chdir('../')"
   ]
  },
  {
   "cell_type": "code",
   "execution_count": 3,
   "metadata": {},
   "outputs": [],
   "source": [
    "df = pd.read_csv('eval_data/bertscorev2.csv')\n",
    "#df.drop('Unnamed: 0',axis=1,inplace=True)"
   ]
  },
  {
   "cell_type": "code",
   "execution_count": 4,
   "metadata": {},
   "outputs": [
    {
     "data": {
      "text/html": [
       "<div>\n",
       "<style scoped>\n",
       "    .dataframe tbody tr th:only-of-type {\n",
       "        vertical-align: middle;\n",
       "    }\n",
       "\n",
       "    .dataframe tbody tr th {\n",
       "        vertical-align: top;\n",
       "    }\n",
       "\n",
       "    .dataframe thead th {\n",
       "        text-align: right;\n",
       "    }\n",
       "</style>\n",
       "<table border=\"1\" class=\"dataframe\">\n",
       "  <thead>\n",
       "    <tr style=\"text-align: right;\">\n",
       "      <th></th>\n",
       "      <th>claude</th>\n",
       "      <th>mixtral</th>\n",
       "      <th>ll70b</th>\n",
       "      <th>ll8b</th>\n",
       "      <th>phi</th>\n",
       "    </tr>\n",
       "  </thead>\n",
       "  <tbody>\n",
       "    <tr>\n",
       "      <th>0</th>\n",
       "      <td>0.492868</td>\n",
       "      <td>0.274986</td>\n",
       "      <td>0.438979</td>\n",
       "      <td>0.434475</td>\n",
       "      <td>0.580536</td>\n",
       "    </tr>\n",
       "    <tr>\n",
       "      <th>1</th>\n",
       "      <td>0.531139</td>\n",
       "      <td>0.331079</td>\n",
       "      <td>0.506058</td>\n",
       "      <td>0.311858</td>\n",
       "      <td>0.666477</td>\n",
       "    </tr>\n",
       "    <tr>\n",
       "      <th>2</th>\n",
       "      <td>0.467435</td>\n",
       "      <td>0.313752</td>\n",
       "      <td>0.446872</td>\n",
       "      <td>0.466672</td>\n",
       "      <td>0.440016</td>\n",
       "    </tr>\n",
       "    <tr>\n",
       "      <th>3</th>\n",
       "      <td>0.456518</td>\n",
       "      <td>0.312949</td>\n",
       "      <td>0.383624</td>\n",
       "      <td>0.359249</td>\n",
       "      <td>0.374173</td>\n",
       "    </tr>\n",
       "    <tr>\n",
       "      <th>4</th>\n",
       "      <td>0.534137</td>\n",
       "      <td>0.491245</td>\n",
       "      <td>0.427240</td>\n",
       "      <td>0.445629</td>\n",
       "      <td>0.582361</td>\n",
       "    </tr>\n",
       "  </tbody>\n",
       "</table>\n",
       "</div>"
      ],
      "text/plain": [
       "     claude   mixtral     ll70b      ll8b       phi\n",
       "0  0.492868  0.274986  0.438979  0.434475  0.580536\n",
       "1  0.531139  0.331079  0.506058  0.311858  0.666477\n",
       "2  0.467435  0.313752  0.446872  0.466672  0.440016\n",
       "3  0.456518  0.312949  0.383624  0.359249  0.374173\n",
       "4  0.534137  0.491245  0.427240  0.445629  0.582361"
      ]
     },
     "execution_count": 4,
     "metadata": {},
     "output_type": "execute_result"
    }
   ],
   "source": [
    "df.head()"
   ]
  },
  {
   "cell_type": "code",
   "execution_count": 5,
   "metadata": {},
   "outputs": [],
   "source": [
    "datasets = ['aqa']*120+['squad']*120+['medqa']*120+['hotpotqa']*120+['triviaqa']*120\n",
    "df['dataset'] = datasets"
   ]
  },
  {
   "cell_type": "code",
   "execution_count": 6,
   "metadata": {},
   "outputs": [
    {
     "data": {
      "text/html": [
       "<div>\n",
       "<style scoped>\n",
       "    .dataframe tbody tr th:only-of-type {\n",
       "        vertical-align: middle;\n",
       "    }\n",
       "\n",
       "    .dataframe tbody tr th {\n",
       "        vertical-align: top;\n",
       "    }\n",
       "\n",
       "    .dataframe thead th {\n",
       "        text-align: right;\n",
       "    }\n",
       "</style>\n",
       "<table border=\"1\" class=\"dataframe\">\n",
       "  <thead>\n",
       "    <tr style=\"text-align: right;\">\n",
       "      <th></th>\n",
       "      <th>claude</th>\n",
       "      <th>mixtral</th>\n",
       "      <th>ll70b</th>\n",
       "      <th>ll8b</th>\n",
       "      <th>phi</th>\n",
       "      <th>dataset</th>\n",
       "    </tr>\n",
       "  </thead>\n",
       "  <tbody>\n",
       "    <tr>\n",
       "      <th>0</th>\n",
       "      <td>0.492868</td>\n",
       "      <td>0.274986</td>\n",
       "      <td>0.438979</td>\n",
       "      <td>0.434475</td>\n",
       "      <td>0.580536</td>\n",
       "      <td>aqa</td>\n",
       "    </tr>\n",
       "    <tr>\n",
       "      <th>1</th>\n",
       "      <td>0.531139</td>\n",
       "      <td>0.331079</td>\n",
       "      <td>0.506058</td>\n",
       "      <td>0.311858</td>\n",
       "      <td>0.666477</td>\n",
       "      <td>aqa</td>\n",
       "    </tr>\n",
       "    <tr>\n",
       "      <th>2</th>\n",
       "      <td>0.467435</td>\n",
       "      <td>0.313752</td>\n",
       "      <td>0.446872</td>\n",
       "      <td>0.466672</td>\n",
       "      <td>0.440016</td>\n",
       "      <td>aqa</td>\n",
       "    </tr>\n",
       "    <tr>\n",
       "      <th>3</th>\n",
       "      <td>0.456518</td>\n",
       "      <td>0.312949</td>\n",
       "      <td>0.383624</td>\n",
       "      <td>0.359249</td>\n",
       "      <td>0.374173</td>\n",
       "      <td>aqa</td>\n",
       "    </tr>\n",
       "    <tr>\n",
       "      <th>4</th>\n",
       "      <td>0.534137</td>\n",
       "      <td>0.491245</td>\n",
       "      <td>0.427240</td>\n",
       "      <td>0.445629</td>\n",
       "      <td>0.582361</td>\n",
       "      <td>aqa</td>\n",
       "    </tr>\n",
       "  </tbody>\n",
       "</table>\n",
       "</div>"
      ],
      "text/plain": [
       "     claude   mixtral     ll70b      ll8b       phi dataset\n",
       "0  0.492868  0.274986  0.438979  0.434475  0.580536     aqa\n",
       "1  0.531139  0.331079  0.506058  0.311858  0.666477     aqa\n",
       "2  0.467435  0.313752  0.446872  0.466672  0.440016     aqa\n",
       "3  0.456518  0.312949  0.383624  0.359249  0.374173     aqa\n",
       "4  0.534137  0.491245  0.427240  0.445629  0.582361     aqa"
      ]
     },
     "execution_count": 6,
     "metadata": {},
     "output_type": "execute_result"
    }
   ],
   "source": [
    "df.head()"
   ]
  },
  {
   "cell_type": "code",
   "execution_count": 7,
   "metadata": {},
   "outputs": [
    {
     "name": "stderr",
     "output_type": "stream",
     "text": [
      "/tmp/ipykernel_12583/1846329046.py:8: SettingWithCopyWarning: \n",
      "A value is trying to be set on a copy of a slice from a DataFrame.\n",
      "Try using .loc[row_indexer,col_indexer] = value instead\n",
      "\n",
      "See the caveats in the documentation: https://pandas.pydata.org/pandas-docs/stable/user_guide/indexing.html#returning-a-view-versus-a-copy\n",
      "  x['model'] = [models[i]]*len(x)\n",
      "/tmp/ipykernel_12583/1846329046.py:8: SettingWithCopyWarning: \n",
      "A value is trying to be set on a copy of a slice from a DataFrame.\n",
      "Try using .loc[row_indexer,col_indexer] = value instead\n",
      "\n",
      "See the caveats in the documentation: https://pandas.pydata.org/pandas-docs/stable/user_guide/indexing.html#returning-a-view-versus-a-copy\n",
      "  x['model'] = [models[i]]*len(x)\n",
      "/tmp/ipykernel_12583/1846329046.py:8: SettingWithCopyWarning: \n",
      "A value is trying to be set on a copy of a slice from a DataFrame.\n",
      "Try using .loc[row_indexer,col_indexer] = value instead\n",
      "\n",
      "See the caveats in the documentation: https://pandas.pydata.org/pandas-docs/stable/user_guide/indexing.html#returning-a-view-versus-a-copy\n",
      "  x['model'] = [models[i]]*len(x)\n",
      "/tmp/ipykernel_12583/1846329046.py:8: SettingWithCopyWarning: \n",
      "A value is trying to be set on a copy of a slice from a DataFrame.\n",
      "Try using .loc[row_indexer,col_indexer] = value instead\n",
      "\n",
      "See the caveats in the documentation: https://pandas.pydata.org/pandas-docs/stable/user_guide/indexing.html#returning-a-view-versus-a-copy\n",
      "  x['model'] = [models[i]]*len(x)\n",
      "/tmp/ipykernel_12583/1846329046.py:8: SettingWithCopyWarning: \n",
      "A value is trying to be set on a copy of a slice from a DataFrame.\n",
      "Try using .loc[row_indexer,col_indexer] = value instead\n",
      "\n",
      "See the caveats in the documentation: https://pandas.pydata.org/pandas-docs/stable/user_guide/indexing.html#returning-a-view-versus-a-copy\n",
      "  x['model'] = [models[i]]*len(x)\n"
     ]
    }
   ],
   "source": [
    "subdatasets = ['aqa','squad','medqa','hotpotqa','triviaqa']\n",
    "models = ['claude','mixtral','ll70b','ll8b','phi']\n",
    "df.columns = models+['dataset']\n",
    "dfs =[]\n",
    "for i in range(len(models)):\n",
    "    x = df[[models[i],'dataset']]\n",
    "    x.columns = ['eval','dataset']\n",
    "    x['model'] = [models[i]]*len(x)\n",
    "    dfs.append(x)"
   ]
  },
  {
   "cell_type": "code",
   "execution_count": 8,
   "metadata": {},
   "outputs": [
    {
     "data": {
      "text/html": [
       "<div>\n",
       "<style scoped>\n",
       "    .dataframe tbody tr th:only-of-type {\n",
       "        vertical-align: middle;\n",
       "    }\n",
       "\n",
       "    .dataframe tbody tr th {\n",
       "        vertical-align: top;\n",
       "    }\n",
       "\n",
       "    .dataframe thead th {\n",
       "        text-align: right;\n",
       "    }\n",
       "</style>\n",
       "<table border=\"1\" class=\"dataframe\">\n",
       "  <thead>\n",
       "    <tr style=\"text-align: right;\">\n",
       "      <th></th>\n",
       "      <th>eval</th>\n",
       "      <th>dataset</th>\n",
       "      <th>model</th>\n",
       "    </tr>\n",
       "  </thead>\n",
       "  <tbody>\n",
       "    <tr>\n",
       "      <th>0</th>\n",
       "      <td>0.492868</td>\n",
       "      <td>aqa</td>\n",
       "      <td>claude</td>\n",
       "    </tr>\n",
       "    <tr>\n",
       "      <th>1</th>\n",
       "      <td>0.531139</td>\n",
       "      <td>aqa</td>\n",
       "      <td>claude</td>\n",
       "    </tr>\n",
       "    <tr>\n",
       "      <th>2</th>\n",
       "      <td>0.467435</td>\n",
       "      <td>aqa</td>\n",
       "      <td>claude</td>\n",
       "    </tr>\n",
       "    <tr>\n",
       "      <th>3</th>\n",
       "      <td>0.456518</td>\n",
       "      <td>aqa</td>\n",
       "      <td>claude</td>\n",
       "    </tr>\n",
       "    <tr>\n",
       "      <th>4</th>\n",
       "      <td>0.534137</td>\n",
       "      <td>aqa</td>\n",
       "      <td>claude</td>\n",
       "    </tr>\n",
       "  </tbody>\n",
       "</table>\n",
       "</div>"
      ],
      "text/plain": [
       "       eval dataset   model\n",
       "0  0.492868     aqa  claude\n",
       "1  0.531139     aqa  claude\n",
       "2  0.467435     aqa  claude\n",
       "3  0.456518     aqa  claude\n",
       "4  0.534137     aqa  claude"
      ]
     },
     "execution_count": 8,
     "metadata": {},
     "output_type": "execute_result"
    }
   ],
   "source": [
    "dfs[0].head()"
   ]
  },
  {
   "cell_type": "code",
   "execution_count": 9,
   "metadata": {},
   "outputs": [],
   "source": [
    "df1 = pd.concat(dfs, axis=0, ignore_index=True )"
   ]
  },
  {
   "cell_type": "code",
   "execution_count": 10,
   "metadata": {},
   "outputs": [
    {
     "data": {
      "text/html": [
       "<div>\n",
       "<style scoped>\n",
       "    .dataframe tbody tr th:only-of-type {\n",
       "        vertical-align: middle;\n",
       "    }\n",
       "\n",
       "    .dataframe tbody tr th {\n",
       "        vertical-align: top;\n",
       "    }\n",
       "\n",
       "    .dataframe thead th {\n",
       "        text-align: right;\n",
       "    }\n",
       "</style>\n",
       "<table border=\"1\" class=\"dataframe\">\n",
       "  <thead>\n",
       "    <tr style=\"text-align: right;\">\n",
       "      <th></th>\n",
       "      <th>eval</th>\n",
       "      <th>dataset</th>\n",
       "      <th>model</th>\n",
       "    </tr>\n",
       "  </thead>\n",
       "  <tbody>\n",
       "    <tr>\n",
       "      <th>0</th>\n",
       "      <td>0.492868</td>\n",
       "      <td>aqa</td>\n",
       "      <td>claude</td>\n",
       "    </tr>\n",
       "    <tr>\n",
       "      <th>1</th>\n",
       "      <td>0.531139</td>\n",
       "      <td>aqa</td>\n",
       "      <td>claude</td>\n",
       "    </tr>\n",
       "    <tr>\n",
       "      <th>2</th>\n",
       "      <td>0.467435</td>\n",
       "      <td>aqa</td>\n",
       "      <td>claude</td>\n",
       "    </tr>\n",
       "    <tr>\n",
       "      <th>3</th>\n",
       "      <td>0.456518</td>\n",
       "      <td>aqa</td>\n",
       "      <td>claude</td>\n",
       "    </tr>\n",
       "    <tr>\n",
       "      <th>4</th>\n",
       "      <td>0.534137</td>\n",
       "      <td>aqa</td>\n",
       "      <td>claude</td>\n",
       "    </tr>\n",
       "  </tbody>\n",
       "</table>\n",
       "</div>"
      ],
      "text/plain": [
       "       eval dataset   model\n",
       "0  0.492868     aqa  claude\n",
       "1  0.531139     aqa  claude\n",
       "2  0.467435     aqa  claude\n",
       "3  0.456518     aqa  claude\n",
       "4  0.534137     aqa  claude"
      ]
     },
     "execution_count": 10,
     "metadata": {},
     "output_type": "execute_result"
    }
   ],
   "source": [
    "df1.head()"
   ]
  },
  {
   "cell_type": "code",
   "execution_count": 11,
   "metadata": {},
   "outputs": [
    {
     "data": {
      "text/plain": [
       "600"
      ]
     },
     "execution_count": 11,
     "metadata": {},
     "output_type": "execute_result"
    }
   ],
   "source": [
    "len(df1[df1['dataset']=='aqa'])"
   ]
  },
  {
   "cell_type": "code",
   "execution_count": 12,
   "metadata": {},
   "outputs": [],
   "source": [
    "df1.to_csv('eval_data/bertscorev3.csv',index=False)"
   ]
  },
  {
   "cell_type": "code",
   "execution_count": 13,
   "metadata": {},
   "outputs": [],
   "source": [
    "df = pd.read_csv('export/combinedv3.csv')"
   ]
  },
  {
   "cell_type": "code",
   "execution_count": 14,
   "metadata": {},
   "outputs": [
    {
     "data": {
      "text/html": [
       "<div>\n",
       "<style scoped>\n",
       "    .dataframe tbody tr th:only-of-type {\n",
       "        vertical-align: middle;\n",
       "    }\n",
       "\n",
       "    .dataframe tbody tr th {\n",
       "        vertical-align: top;\n",
       "    }\n",
       "\n",
       "    .dataframe thead th {\n",
       "        text-align: right;\n",
       "    }\n",
       "</style>\n",
       "<table border=\"1\" class=\"dataframe\">\n",
       "  <thead>\n",
       "    <tr style=\"text-align: right;\">\n",
       "      <th></th>\n",
       "      <th>Unnamed: 0</th>\n",
       "      <th>questions</th>\n",
       "      <th>answers</th>\n",
       "      <th>dataset</th>\n",
       "      <th>prediction</th>\n",
       "      <th>eval</th>\n",
       "      <th>model</th>\n",
       "    </tr>\n",
       "  </thead>\n",
       "  <tbody>\n",
       "    <tr>\n",
       "      <th>0</th>\n",
       "      <td>0</td>\n",
       "      <td>Where is the Hoppings funfair held?</td>\n",
       "      <td>Town Moor</td>\n",
       "      <td>aqa</td>\n",
       "      <td>According to the passage, the Hoppings funfair...</td>\n",
       "      <td>1</td>\n",
       "      <td>claude</td>\n",
       "    </tr>\n",
       "    <tr>\n",
       "      <th>1</th>\n",
       "      <td>1</td>\n",
       "      <td>Who shares a name with an older type of transp...</td>\n",
       "      <td>Stagecoach North East</td>\n",
       "      <td>aqa</td>\n",
       "      <td>Based on the information provided, the company...</td>\n",
       "      <td>1</td>\n",
       "      <td>claude</td>\n",
       "    </tr>\n",
       "    <tr>\n",
       "      <th>2</th>\n",
       "      <td>2</td>\n",
       "      <td>What would be done for people who need more in...</td>\n",
       "      <td>link the local networks to national networks</td>\n",
       "      <td>aqa</td>\n",
       "      <td>Based on the given context, there isn't specif...</td>\n",
       "      <td>0</td>\n",
       "      <td>claude</td>\n",
       "    </tr>\n",
       "    <tr>\n",
       "      <th>3</th>\n",
       "      <td>3</td>\n",
       "      <td>What was affected by the refurbishment?</td>\n",
       "      <td>cinema</td>\n",
       "      <td>aqa</td>\n",
       "      <td>Based on the given context, the Pilgrim Street...</td>\n",
       "      <td>1</td>\n",
       "      <td>claude</td>\n",
       "    </tr>\n",
       "    <tr>\n",
       "      <th>4</th>\n",
       "      <td>4</td>\n",
       "      <td>Of the successful state schools listed, this s...</td>\n",
       "      <td>Heaton Manor School</td>\n",
       "      <td>aqa</td>\n",
       "      <td>To answer this question, I'll list the success...</td>\n",
       "      <td>1</td>\n",
       "      <td>claude</td>\n",
       "    </tr>\n",
       "  </tbody>\n",
       "</table>\n",
       "</div>"
      ],
      "text/plain": [
       "   Unnamed: 0                                          questions  \\\n",
       "0           0                Where is the Hoppings funfair held?   \n",
       "1           1  Who shares a name with an older type of transp...   \n",
       "2           2  What would be done for people who need more in...   \n",
       "3           3            What was affected by the refurbishment?   \n",
       "4           4  Of the successful state schools listed, this s...   \n",
       "\n",
       "                                        answers dataset  \\\n",
       "0                                     Town Moor     aqa   \n",
       "1                         Stagecoach North East     aqa   \n",
       "2  link the local networks to national networks     aqa   \n",
       "3                                        cinema     aqa   \n",
       "4                           Heaton Manor School     aqa   \n",
       "\n",
       "                                          prediction  eval   model  \n",
       "0  According to the passage, the Hoppings funfair...     1  claude  \n",
       "1  Based on the information provided, the company...     1  claude  \n",
       "2  Based on the given context, there isn't specif...     0  claude  \n",
       "3  Based on the given context, the Pilgrim Street...     1  claude  \n",
       "4  To answer this question, I'll list the success...     1  claude  "
      ]
     },
     "execution_count": 14,
     "metadata": {},
     "output_type": "execute_result"
    }
   ],
   "source": [
    "df.head()"
   ]
  },
  {
   "cell_type": "code",
   "execution_count": 15,
   "metadata": {},
   "outputs": [
    {
     "data": {
      "text/plain": [
       "[0.1822586359025753,\n",
       " 0.07781661889626787,\n",
       " 0.03322888801774506,\n",
       " 0.299316779661239,\n",
       " 0.10818818790843408]"
      ]
     },
     "execution_count": 15,
     "metadata": {},
     "output_type": "execute_result"
    }
   ],
   "source": [
    "from sklearn.metrics import matthews_corrcoef\n",
    "r = []\n",
    "for i in range(len(subdatasets)):\n",
    "    sub1 = df[df['dataset']==subdatasets[i]]['eval']\n",
    "    sub2 = df1[df1['dataset']==subdatasets[i]]['eval']\n",
    "    #sub2 = sub2.fillna(-1)\n",
    "    result = matthews_corrcoef(np.array(sub1),np.where(np.array(sub2) > 0.5, 1, 0))\n",
    "    r.append(result)\n",
    "    \n",
    "r"
   ]
  },
  {
   "cell_type": "code",
   "execution_count": 16,
   "metadata": {},
   "outputs": [
    {
     "data": {
      "text/plain": [
       "[0.24094010661409593,\n",
       " 0.18154509608800368,\n",
       " 0.29236096055589056,\n",
       " 0.35211273551212685,\n",
       " 0.3428402946814411]"
      ]
     },
     "execution_count": 16,
     "metadata": {},
     "output_type": "execute_result"
    }
   ],
   "source": [
    "r = []\n",
    "for i in range(len(models)):\n",
    "    sub1 = df[df['model']==models[i]]['eval']\n",
    "    sub2 = df1[df1['model']==models[i]]['eval']\n",
    "    sub2 = sub2.fillna(0)\n",
    "    result = matthews_corrcoef(np.array(sub1),np.where(np.array(sub2) > 0.5, 1, 0))\n",
    "    r.append(result)\n",
    "    \n",
    "r"
   ]
  },
  {
   "cell_type": "code",
   "execution_count": 44,
   "metadata": {},
   "outputs": [
    {
     "data": {
      "text/plain": [
       "600"
      ]
     },
     "execution_count": 44,
     "metadata": {},
     "output_type": "execute_result"
    }
   ],
   "source": [
    "len(df1[df1['dataset']==subdatasets[i]]['eval'])"
   ]
  },
  {
   "cell_type": "code",
   "execution_count": 48,
   "metadata": {},
   "outputs": [
    {
     "data": {
      "text/plain": [
       "15"
      ]
     },
     "execution_count": 48,
     "metadata": {},
     "output_type": "execute_result"
    }
   ],
   "source": [
    "df1['eval'].isna().sum()"
   ]
  }
 ],
 "metadata": {
  "kernelspec": {
   "display_name": "CS594",
   "language": "python",
   "name": "python3"
  },
  "language_info": {
   "codemirror_mode": {
    "name": "ipython",
    "version": 3
   },
   "file_extension": ".py",
   "mimetype": "text/x-python",
   "name": "python",
   "nbconvert_exporter": "python",
   "pygments_lexer": "ipython3",
   "version": "3.12.1"
  }
 },
 "nbformat": 4,
 "nbformat_minor": 2
}
